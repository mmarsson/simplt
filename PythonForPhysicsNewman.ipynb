{
 "cells": [
  {
   "cell_type": "code",
   "execution_count": 2,
   "id": "1d06522e-40cb-4397-84fd-2416ec8760a8",
   "metadata": {
    "tags": []
   },
   "outputs": [],
   "source": [
    "#This Notebook will serve as a working refrence for exercises and projects in:\n",
    "#Computational Physics by Mark Newman"
   ]
  },
  {
   "cell_type": "code",
   "execution_count": null,
   "id": "f87ba15a-376d-4c57-a250-d8545c05c42b",
   "metadata": {},
   "outputs": [],
   "source": [
    "'''Chapter 1 introduction; Short summary to follow:\n",
    "\n",
    "'''"
   ]
  }
 ],
 "metadata": {
  "kernelspec": {
   "display_name": "Python 3 (ipykernel)",
   "language": "python",
   "name": "python3"
  },
  "language_info": {
   "codemirror_mode": {
    "name": "ipython",
    "version": 3
   },
   "file_extension": ".py",
   "mimetype": "text/x-python",
   "name": "python",
   "nbconvert_exporter": "python",
   "pygments_lexer": "ipython3",
   "version": "3.9.2"
  }
 },
 "nbformat": 4,
 "nbformat_minor": 5
}
